{
  "nbformat": 4,
  "nbformat_minor": 0,
  "metadata": {
    "colab": {
      "provenance": [],
      "mount_file_id": "1-EwBNKOBasVmS3oIRqUyHYztf2ZbaxC4",
      "authorship_tag": "ABX9TyPSURfeZMyw5Q7QHUefsCw9",
      "include_colab_link": true
    },
    "kernelspec": {
      "name": "python3",
      "display_name": "Python 3"
    },
    "language_info": {
      "name": "python"
    }
  },
  "cells": [
    {
      "cell_type": "markdown",
      "metadata": {
        "id": "view-in-github",
        "colab_type": "text"
      },
      "source": [
        "<a href=\"https://colab.research.google.com/github/michaeljmcardoso/barChartRace/blob/main/barchartRace.ipynb\" target=\"_parent\"><img src=\"https://colab.research.google.com/assets/colab-badge.svg\" alt=\"Open In Colab\"/></a>"
      ]
    },
    {
      "cell_type": "code",
      "source": [
        "# instalar pacote Bar Chart Race\n",
        "!pip install bar_chart_race -q"
      ],
      "metadata": {
        "colab": {
          "base_uri": "https://localhost:8080/"
        },
        "id": "LNRc0ekQ1YIM",
        "outputId": "fe138c89-3a41-4456-9afb-a733e0764e09"
      },
      "execution_count": 1,
      "outputs": [
        {
          "output_type": "stream",
          "name": "stdout",
          "text": [
            "\u001b[?25l     \u001b[90m━━━━━━━━━━━━━━━━━━━━━━━━━━━━━━━━━━━━━━━━\u001b[0m \u001b[32m0.0/156.8 kB\u001b[0m \u001b[31m?\u001b[0m eta \u001b[36m-:--:--\u001b[0m\r\u001b[2K     \u001b[91m━━━━━━━━━━━━━━━━━━━━━━━━━━━━━━━━━━━━━━\u001b[0m\u001b[90m╺\u001b[0m \u001b[32m153.6/156.8 kB\u001b[0m \u001b[31m5.9 MB/s\u001b[0m eta \u001b[36m0:00:01\u001b[0m\r\u001b[2K     \u001b[90m━━━━━━━━━━━━━━━━━━━━━━━━━━━━━━━━━━━━━━━\u001b[0m \u001b[32m156.8/156.8 kB\u001b[0m \u001b[31m4.1 MB/s\u001b[0m eta \u001b[36m0:00:00\u001b[0m\n",
            "\u001b[?25h"
          ]
        }
      ]
    },
    {
      "cell_type": "code",
      "source": [
        "# importar as bibliotecas necessárias\n",
        "import pandas as pd\n",
        "import bar_chart_race as bcr\n",
        "from google.colab import drive\n",
        "import warnings\n",
        "\n",
        "# desativar a impressão de avisos\n",
        "warnings.filterwarnings('ignore')"
      ],
      "metadata": {
        "id": "QW8SY9P81b_m"
      },
      "execution_count": 8,
      "outputs": []
    },
    {
      "cell_type": "code",
      "source": [
        "# montar o drive\n",
        "drive.mount('/content/gdrive')"
      ],
      "metadata": {
        "colab": {
          "base_uri": "https://localhost:8080/"
        },
        "id": "H6Y_o4TC2hC5",
        "outputId": "3f77443b-8a9e-48b5-a985-fcad4a80de7e"
      },
      "execution_count": 9,
      "outputs": [
        {
          "output_type": "stream",
          "name": "stdout",
          "text": [
            "Drive already mounted at /content/gdrive; to attempt to forcibly remount, call drive.mount(\"/content/gdrive\", force_remount=True).\n"
          ]
        }
      ]
    },
    {
      "cell_type": "code",
      "source": [
        "# Ler o arquivo e salvar na variável df\n",
        "df = pd.read_csv('/content/gdrive/MyDrive/dados_serieB_2022_pontos.csv')\n",
        "\n",
        "# Definindo a coluna Rodadas como índice\n",
        "df = df.set_index(['Rodadas'])"
      ],
      "metadata": {
        "id": "XLNp64Cm3lId"
      },
      "execution_count": 11,
      "outputs": []
    },
    {
      "cell_type": "code",
      "execution_count": 12,
      "metadata": {
        "id": "MnKjN21z08Vn"
      },
      "outputs": [],
      "source": [
        "# Criação da animação do gráfico\n",
        "bcr.bar_chart_race(\n",
        "    df=df,  # variável dos dados\n",
        "    filename='grafico_animado_2.mp4',  # insira aqui um nome + .mp4 ou .html para gerar o arquivo\n",
        "    orientation='h',  # orientação do gráfico: horizontal ou vertical\n",
        "    sort='desc',  # orientar a organização dos dados: ascendente ou descendente\n",
        "    fixed_max=False,  # mantém o valor máximo fixo (por default é False)\n",
        "    n_bars=20,  # limita a quantidade de barras no gráfico\n",
        "    fixed_order=False,  # mantém uma ordem fixa das barras\n",
        "    steps_per_period=40,  # passos por período\n",
        "    tick_label_size=7,  # tamanho do texto do eixo x\n",
        "    bar_label_size=5,  # tamanho do texto do eixo y\n",
        "    title='Brasileirão Série-B | 2022\\nPontos dos Clubes',  # título do gráfico\n",
        "    title_size='smaller',  # tamanho do título\n",
        "    period_length=1000,  # quantidade de tempo por período\n",
        "    interpolate_period=False,  # interpolar linearmente o valor do período\n",
        "    label_bars=True,  # colocar texto nas barras (por default é True)\n",
        "    bar_size=.95,  # tamanho das barras\n",
        "    period_label={'x': .99, 'y': .25, 'ha': 'right', 'color': 'gray', 'va': 'center'},  # texto dos períodos\n",
        "    cmap='dark24',  # mapa de cores\n",
        "    filter_column_colors=True)  # filtrar cores das colunas para reduzir repetição"
      ]
    },
    {
      "cell_type": "markdown",
      "source": [
        "O gráfico animado foi salvo como arquivo *.mp4*. Clique [aqui](https://youtu.be/7WhWd3QSinA) para ver no meu [canal do youtube](https://youtube.com/@michaelcardoso8705) como ficou o resultado final."
      ],
      "metadata": {
        "id": "ClvqchV46fLx"
      }
    }
  ]
}